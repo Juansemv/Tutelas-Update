{
 "cells": [
  {
   "cell_type": "markdown",
   "metadata": {},
   "source": [
    "# Monitoria- 03.30.2020\n",
    "## Métodos mixtos para la investigación social\n",
    "### Juan Sebastián Muñoz Vargas\n"
   ]
  },
  {
   "cell_type": "markdown",
   "metadata": {},
   "source": [
    "---"
   ]
  },
  {
   "cell_type": "markdown",
   "metadata": {},
   "source": [
    "### Implementando el try y el except"
   ]
  },
  {
   "cell_type": "code",
   "execution_count": 3,
   "metadata": {},
   "outputs": [
    {
     "ename": "NameError",
     "evalue": "name 'a' is not defined",
     "output_type": "error",
     "traceback": [
      "\u001b[1;31m---------------------------------------------------------------------------\u001b[0m",
      "\u001b[1;31mNameError\u001b[0m                                 Traceback (most recent call last)",
      "\u001b[1;32m<ipython-input-3-3772336cfa99>\u001b[0m in \u001b[0;36m<module>\u001b[1;34m\u001b[0m\n\u001b[0;32m      1\u001b[0m \u001b[1;31m# Uso del Try y el except\u001b[0m\u001b[1;33m\u001b[0m\u001b[1;33m\u001b[0m\u001b[1;33m\u001b[0m\u001b[0m\n\u001b[1;32m----> 2\u001b[1;33m \u001b[0mprint\u001b[0m\u001b[1;33m(\u001b[0m\u001b[0ma\u001b[0m\u001b[1;33m)\u001b[0m\u001b[1;33m\u001b[0m\u001b[1;33m\u001b[0m\u001b[0m\n\u001b[0m",
      "\u001b[1;31mNameError\u001b[0m: name 'a' is not defined"
     ]
    }
   ],
   "source": [
    "# Uso del Try y el except\n",
    "print(a)"
   ]
  },
  {
   "cell_type": "code",
   "execution_count": 4,
   "metadata": {},
   "outputs": [
    {
     "name": "stdout",
     "output_type": "stream",
     "text": [
      "Ocurrió un error\n"
     ]
    }
   ],
   "source": [
    "try:\n",
    "    print(a)\n",
    "except:\n",
    "    print(\"Ocurrió un error\")"
   ]
  },
  {
   "cell_type": "code",
   "execution_count": 5,
   "metadata": {},
   "outputs": [
    {
     "name": "stdout",
     "output_type": "stream",
     "text": [
      "La variable 'a' no está definida\n"
     ]
    }
   ],
   "source": [
    "try:\n",
    "    print(a)\n",
    "except NameError:\n",
    "    print(\"La variable 'a' no está definida\")\n",
    "except:\n",
    "    print(\"Oops, algo salió mal\")"
   ]
  },
  {
   "cell_type": "code",
   "execution_count": 7,
   "metadata": {},
   "outputs": [
    {
     "ename": "ValueError",
     "evalue": "invalid literal for int() with base 10: 'Mariana'",
     "output_type": "error",
     "traceback": [
      "\u001b[1;31m---------------------------------------------------------------------------\u001b[0m",
      "\u001b[1;31mValueError\u001b[0m                                Traceback (most recent call last)",
      "\u001b[1;32m<ipython-input-7-60b3eb1d7022>\u001b[0m in \u001b[0;36m<module>\u001b[1;34m\u001b[0m\n\u001b[0;32m      1\u001b[0m \u001b[0ma\u001b[0m \u001b[1;33m=\u001b[0m \u001b[1;34m'Mariana'\u001b[0m\u001b[1;33m\u001b[0m\u001b[1;33m\u001b[0m\u001b[0m\n\u001b[1;32m----> 2\u001b[1;33m \u001b[0mprint\u001b[0m\u001b[1;33m(\u001b[0m\u001b[0mint\u001b[0m\u001b[1;33m(\u001b[0m\u001b[0ma\u001b[0m\u001b[1;33m)\u001b[0m\u001b[1;33m)\u001b[0m\u001b[1;33m\u001b[0m\u001b[1;33m\u001b[0m\u001b[0m\n\u001b[0m",
      "\u001b[1;31mValueError\u001b[0m: invalid literal for int() with base 10: 'Mariana'"
     ]
    }
   ],
   "source": [
    "a = 'Mariana'\n",
    "print(int(a))"
   ]
  },
  {
   "cell_type": "code",
   "execution_count": 8,
   "metadata": {},
   "outputs": [
    {
     "name": "stdout",
     "output_type": "stream",
     "text": [
      "La variable 'a' no está definida\n"
     ]
    }
   ],
   "source": [
    "a = 'Mariana'\n",
    "try:\n",
    "    print(int(a))\n",
    "except ValueError:\n",
    "    print(\"La variable 'a' no está definida\")\n",
    "except:\n",
    "    print(\"Oops, algo salió mal\")"
   ]
  },
  {
   "cell_type": "markdown",
   "metadata": {},
   "source": []
  },
  {
   "cell_type": "code",
   "execution_count": 10,
   "metadata": {},
   "outputs": [
    {
     "name": "stdout",
     "output_type": "stream",
     "text": [
      "Hola. ¿Cómo te llamas? Alejandra\n",
      "¡Hola! Alejandra Es un gusto tenerte acá\n",
      "¿Cuántos años tienes? 22\n",
      "Que bueno que tengas 22 años\n",
      "¡Ten un buen día!\n"
     ]
    }
   ],
   "source": [
    "a = input('Hola. ¿Cómo te llamas? ')\n",
    "print (\"¡Hola!\" , a , \"Es un gusto tenerte acá\")\n",
    "\n",
    "b = input(\"¿Cuántos años tienes? \")\n",
    "try:\n",
    "    print(\"Que bueno que tengas\" , int(b) , \"años\")\n",
    "except:\n",
    "    print(\"No ingresaste un número\")\n",
    "else:\n",
    "    print(\"¡Ten un buen día!\")"
   ]
  },
  {
   "cell_type": "code",
   "execution_count": 12,
   "metadata": {},
   "outputs": [
    {
     "name": "stdout",
     "output_type": "stream",
     "text": [
      "Hola. ¿Cómo te llamas? Carolina\n",
      "¡Hola! Carolina Es un gusto tenerte acá\n",
      "¿Cuántos años tienes? Veinte\n",
      "No ingresaste un número\n",
      "¡Ten un buen día!\n"
     ]
    }
   ],
   "source": [
    "a = input('Hola. ¿Cómo te llamas? ')\n",
    "print (\"¡Hola!\" , a , \"Es un gusto tenerte acá\")\n",
    "\n",
    "b = input (\"¿Cuántos años tienes? \")\n",
    "try:\n",
    "    print(\"Que bueno que tengas\" , int(b) , \"años\")\n",
    "except:\n",
    "    print(\"No ingresaste un número\")\n",
    "finally:\n",
    "    print(\"¡Ten un buen día!\")"
   ]
  },
  {
   "cell_type": "code",
   "execution_count": 13,
   "metadata": {},
   "outputs": [
    {
     "name": "stdout",
     "output_type": "stream",
     "text": [
      "¡Hola! Ingresa un número: diez\n"
     ]
    },
    {
     "ename": "ValueError",
     "evalue": "invalid literal for int() with base 10: 'diez'",
     "output_type": "error",
     "traceback": [
      "\u001b[1;31m---------------------------------------------------------------------------\u001b[0m",
      "\u001b[1;31mValueError\u001b[0m                                Traceback (most recent call last)",
      "\u001b[1;32m<ipython-input-13-5cab5d8079ca>\u001b[0m in \u001b[0;36m<module>\u001b[1;34m\u001b[0m\n\u001b[0;32m      1\u001b[0m \u001b[1;31m# Uso del Try y el except\u001b[0m\u001b[1;33m\u001b[0m\u001b[1;33m\u001b[0m\u001b[1;33m\u001b[0m\u001b[0m\n\u001b[1;32m----> 2\u001b[1;33m \u001b[0mx\u001b[0m \u001b[1;33m=\u001b[0m \u001b[0mint\u001b[0m\u001b[1;33m(\u001b[0m\u001b[0minput\u001b[0m\u001b[1;33m(\u001b[0m\u001b[1;34m\"¡Hola! Ingresa un número: \"\u001b[0m\u001b[1;33m)\u001b[0m\u001b[1;33m)\u001b[0m\u001b[1;33m\u001b[0m\u001b[1;33m\u001b[0m\u001b[0m\n\u001b[0m\u001b[0;32m      3\u001b[0m \u001b[0mprint\u001b[0m \u001b[1;33m(\u001b[0m\u001b[1;34m\"Gracias por darme un número\"\u001b[0m\u001b[1;33m)\u001b[0m \u001b[1;31m#ASDF\u001b[0m\u001b[1;33m\u001b[0m\u001b[1;33m\u001b[0m\u001b[0m\n",
      "\u001b[1;31mValueError\u001b[0m: invalid literal for int() with base 10: 'diez'"
     ]
    }
   ],
   "source": [
    "# Uso del Try y el except\n",
    "x = int(input(\"¡Hola! Ingresa un número: \"))\n",
    "print (\"Gracias por darme un número\") #ASDF"
   ]
  },
  {
   "cell_type": "code",
   "execution_count": 17,
   "metadata": {},
   "outputs": [
    {
     "name": "stdout",
     "output_type": "stream",
     "text": [
      "¡Hola! Ingresa un número: sdfghjk\n",
      "¡Changos! Eso no es un número. Prueba de nuevo...\n",
      "¡Hola! Ingresa un número: asdfghj\n",
      "¡Changos! Eso no es un número. Prueba de nuevo...\n",
      "¡Hola! Ingresa un número: 20\n",
      "¡Excelente! 20 es un entero\n",
      "Gracias.\n"
     ]
    }
   ],
   "source": [
    "while True:\n",
    "    try:\n",
    "        x = int(input(\"¡Hola! Ingresa un número: \"))\n",
    "    except ValueError:\n",
    "        print (\"¡Changos! Eso no es un número. Prueba de nuevo...\")\n",
    "    else:\n",
    "        print ('¡Excelente!',x,'es un entero')\n",
    "        break\n",
    "\n",
    "print ('Gracias.')"
   ]
  },
  {
   "cell_type": "markdown",
   "metadata": {},
   "source": [
    "### Return y Loops"
   ]
  },
  {
   "cell_type": "code",
   "execution_count": 21,
   "metadata": {},
   "outputs": [
    {
     "name": "stdout",
     "output_type": "stream",
     "text": [
      "50\n"
     ]
    },
    {
     "ename": "TypeError",
     "evalue": "unsupported operand type(s) for +: 'NoneType' and 'int'",
     "output_type": "error",
     "traceback": [
      "\u001b[1;31m---------------------------------------------------------------------------\u001b[0m",
      "\u001b[1;31mTypeError\u001b[0m                                 Traceback (most recent call last)",
      "\u001b[1;32m<ipython-input-21-1743bdd54ece>\u001b[0m in \u001b[0;36m<module>\u001b[1;34m\u001b[0m\n\u001b[0;32m      7\u001b[0m     \u001b[1;31m#50\u001b[0m\u001b[1;33m\u001b[0m\u001b[1;33m\u001b[0m\u001b[1;33m\u001b[0m\u001b[0m\n\u001b[0;32m      8\u001b[0m \u001b[0ma\u001b[0m \u001b[1;33m=\u001b[0m \u001b[0mN_absoluto\u001b[0m\u001b[1;33m(\u001b[0m\u001b[1;33m-\u001b[0m\u001b[1;36m50\u001b[0m\u001b[1;33m)\u001b[0m\u001b[1;33m\u001b[0m\u001b[1;33m\u001b[0m\u001b[0m\n\u001b[1;32m----> 9\u001b[1;33m \u001b[0mg\u001b[0m \u001b[1;33m=\u001b[0m \u001b[0ma\u001b[0m \u001b[1;33m+\u001b[0m \u001b[1;36m10\u001b[0m\u001b[1;33m\u001b[0m\u001b[1;33m\u001b[0m\u001b[0m\n\u001b[0m\u001b[0;32m     10\u001b[0m \u001b[0mprint\u001b[0m \u001b[1;33m(\u001b[0m\u001b[0mg\u001b[0m\u001b[1;33m)\u001b[0m\u001b[1;33m\u001b[0m\u001b[1;33m\u001b[0m\u001b[0m\n",
      "\u001b[1;31mTypeError\u001b[0m: unsupported operand type(s) for +: 'NoneType' and 'int'"
     ]
    }
   ],
   "source": [
    "# Return\n",
    "def N_absoluto(t):\n",
    "    if t < 0:\n",
    "        print(-t)\n",
    "    else:\n",
    "        print(t)\n",
    "    #50\n",
    "a = N_absoluto(-50)\n",
    "g = a + 10\n",
    "print (g)"
   ]
  },
  {
   "cell_type": "code",
   "execution_count": 19,
   "metadata": {},
   "outputs": [
    {
     "name": "stdout",
     "output_type": "stream",
     "text": [
      "60\n"
     ]
    }
   ],
   "source": [
    "# Return\n",
    "def N_absoluto(t):\n",
    "    if t < 0:\n",
    "        return -t\n",
    "    else:\n",
    "        return t\n",
    "    \n",
    "a = N_absoluto(-50)\n",
    "g = a + 10\n",
    "print (g)"
   ]
  },
  {
   "cell_type": "code",
   "execution_count": 28,
   "metadata": {},
   "outputs": [
    {
     "name": "stdout",
     "output_type": "stream",
     "text": [
      "Dime un número del 1 - 10 3\n",
      "El resultado es 51\n"
     ]
    }
   ],
   "source": [
    "def Crear_Multiplicador(x):\n",
    "    def Multiplicador(y):\n",
    "        return x * y  \n",
    "    return Multiplicador  \n",
    "  \n",
    "Multiplo = Crear_Multiplicador(15)\n",
    "f = int(input('Dime un número del 1 - 10 '))\n",
    "b = Multiplo_15(f)\n",
    "print(\"El resultado es\", b)"
   ]
  },
  {
   "cell_type": "markdown",
   "metadata": {},
   "source": [
    "### Nested loops"
   ]
  },
  {
   "cell_type": "code",
   "execution_count": 29,
   "metadata": {
    "scrolled": true
   },
   "outputs": [
    {
     "name": "stdout",
     "output_type": "stream",
     "text": [
      "Empanada con Gaseosa\n",
      "Tamal con Gaseosa\n",
      "Pandebono con Gaseosa\n",
      "\n",
      "\n",
      "Empanada con Chocolate\n",
      "Tamal con Chocolate\n",
      "Pandebono con Chocolate\n",
      "\n",
      "\n",
      "Empanada con Avena\n",
      "Tamal con Avena\n",
      "Pandebono con Avena\n",
      "\n",
      "\n"
     ]
    }
   ],
   "source": [
    "#Opciones para el refrigerio\n",
    "\n",
    "Bebidas = [\"Gaseosa\", \"Chocolate\", \"Avena\"]\n",
    "Comidas = [\"Empanada\", \"Tamal\", \"Pandebono\"]\n",
    "\n",
    "\n",
    "\n",
    "for x in Bebidas:\n",
    "    for y in Comidas:\n",
    "        print(y, 'con', x)\n",
    "    print ('\\n')\n",
    "        "
   ]
  },
  {
   "cell_type": "markdown",
   "metadata": {},
   "source": [
    "---"
   ]
  },
  {
   "cell_type": "markdown",
   "metadata": {},
   "source": [
    "## Anuncios:\n",
    "* Las próximas monitorias serán para asesorías individuales sobre los proyectos\n",
    "* Se puede hacer una sesión de Gephi para cuando tengan los datos o preguntas de investigación\n",
    "* ¿Dudas, comentarios, retroalimentación?"
   ]
  },
  {
   "cell_type": "markdown",
   "metadata": {},
   "source": [
    "---"
   ]
  }
 ],
 "metadata": {
  "kernelspec": {
   "display_name": "Python 3",
   "language": "python",
   "name": "python3"
  },
  "language_info": {
   "codemirror_mode": {
    "name": "ipython",
    "version": 3
   },
   "file_extension": ".py",
   "mimetype": "text/x-python",
   "name": "python",
   "nbconvert_exporter": "python",
   "pygments_lexer": "ipython3",
   "version": "3.7.3"
  }
 },
 "nbformat": 4,
 "nbformat_minor": 2
}
