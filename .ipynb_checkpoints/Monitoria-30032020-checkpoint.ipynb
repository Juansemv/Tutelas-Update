{
 "cells": [
  {
   "cell_type": "markdown",
   "metadata": {},
   "source": [
    "# Monitoria- 03.30.2020\n",
    "## Métodos mixtos para la investigación social\n",
    "### Juan Sebastián Muñoz Vargas\n"
   ]
  },
  {
   "cell_type": "markdown",
   "metadata": {},
   "source": [
    "---"
   ]
  },
  {
   "cell_type": "markdown",
   "metadata": {},
   "source": [
    "### Implementando el try y el except"
   ]
  },
  {
   "cell_type": "code",
   "execution_count": null,
   "metadata": {},
   "outputs": [],
   "source": [
    "# Uso del Try y el except\n",
    "print(a)"
   ]
  },
  {
   "cell_type": "code",
   "execution_count": null,
   "metadata": {},
   "outputs": [],
   "source": [
    "try:\n",
    "    print(a)\n",
    "except:\n",
    "    print(\"Ocurrió un error\")"
   ]
  },
  {
   "cell_type": "code",
   "execution_count": null,
   "metadata": {},
   "outputs": [],
   "source": [
    "try:\n",
    "    print(a)\n",
    "except NameError:\n",
    "    print(\"La variable 'a' no está definida\")\n",
    "except:\n",
    "    print(\"Oops, algo salió mal\")"
   ]
  },
  {
   "cell_type": "code",
   "execution_count": null,
   "metadata": {},
   "outputs": [],
   "source": [
    "a = 'Mariana'\n",
    "try:\n",
    "    print(int(a))\n",
    "except NameError:\n",
    "    print(\"La variable 'a' no está definida\")\n",
    "except:\n",
    "    print(\"Oops, algo salió mal\")"
   ]
  },
  {
   "cell_type": "code",
   "execution_count": null,
   "metadata": {},
   "outputs": [],
   "source": [
    "a = input('Hola. ¿Cómo te llamas? ')\n",
    "print (\"¡Hola!\" , a , \"Es un gusto tenerte acá\")\n",
    "\n",
    "b = input (\"¿Cuántos años tienes? \")\n",
    "try:\n",
    "    print(\"Que bueno que tengas\" , int(b) , \"años\")\n",
    "except:\n",
    "    print(\"No ingresaste un número\")\n",
    "else:\n",
    "    print(\"¡Ten un buen día!\")"
   ]
  },
  {
   "cell_type": "code",
   "execution_count": null,
   "metadata": {},
   "outputs": [],
   "source": [
    "a = input('Hola. ¿Cómo te llamas? ')\n",
    "print (\"¡Hola!\" , a , \"Es un gusto tenerte acá\")\n",
    "\n",
    "b = input (\"¿Cuántos años tienes? \")\n",
    "try:\n",
    "    print(\"Que bueno que tengas\" , int(b) , \"años\")\n",
    "except:\n",
    "    print(\"No ingresaste un número\")\n",
    "finally:\n",
    "    print(\"¡Ten un buen día!\")"
   ]
  },
  {
   "cell_type": "code",
   "execution_count": null,
   "metadata": {},
   "outputs": [],
   "source": [
    "# Uso del Try y el except\n",
    "x = int(input(\"¡Hola! Ingresa un número: \"))\n",
    "print (\"Gracias por darme un número\") #ASDF"
   ]
  },
  {
   "cell_type": "code",
   "execution_count": null,
   "metadata": {},
   "outputs": [],
   "source": [
    "while True:\n",
    "    try:\n",
    "        x = int(input(\"¡Hola! Ingresa un número: \"))\n",
    "    except ValueError:\n",
    "        print (\"¡Changos! Eso no es un número. Prueba de nuevo...\")\n",
    "    else:\n",
    "        print ('¡Excelente!',x,'es un entero')\n",
    "        break\n",
    "\n",
    "print ('Gracias.')"
   ]
  },
  {
   "cell_type": "markdown",
   "metadata": {},
   "source": [
    "### Return y Loops"
   ]
  },
  {
   "cell_type": "code",
   "execution_count": null,
   "metadata": {},
   "outputs": [],
   "source": [
    "# Return\n",
    "def N_absoluto(t):\n",
    "    if t < 0:\n",
    "        print(-t)\n",
    "    else:\n",
    "        print(t)\n",
    "    \n",
    "a = N_absoluto(50)\n",
    "g = a + 10\n",
    "print (g)"
   ]
  },
  {
   "cell_type": "code",
   "execution_count": null,
   "metadata": {},
   "outputs": [],
   "source": [
    "# Return\n",
    "def N_absoluto(t):\n",
    "    if t < 0:\n",
    "        return -t\n",
    "    else:\n",
    "        return t\n",
    "    \n",
    "a = N_absoluto(50)\n",
    "g = a + 10\n",
    "print (g)"
   ]
  },
  {
   "cell_type": "code",
   "execution_count": null,
   "metadata": {},
   "outputs": [],
   "source": [
    "def Crear_Multiplicador(x):\n",
    "    def Multiplicador(y):\n",
    "        return x * y  \n",
    "    return Multiplicador  \n",
    "  \n",
    "Multiplo_15 = Crear_Multiplicador(15)  \n",
    "  \n",
    "print(\"El resultado es\", Multiplo_15(10))  "
   ]
  },
  {
   "cell_type": "code",
   "execution_count": null,
   "metadata": {},
   "outputs": [],
   "source": [
    "g"
   ]
  },
  {
   "cell_type": "markdown",
   "metadata": {},
   "source": [
    "### Nested loops"
   ]
  },
  {
   "cell_type": "code",
   "execution_count": null,
   "metadata": {
    "scrolled": true
   },
   "outputs": [],
   "source": [
    "#Opciones para el refrigerio\n",
    "\n",
    "Comidas = [\"Empanada\", \"Tamal\", \"Pandebono\"]\n",
    "Bebidas = [\"Gaseosa\", \"Chocolate\", \"Avena\"]\n",
    "\n",
    "\n",
    "for x in Bebidas:\n",
    "    for y in Comidas:\n",
    "        print(y, 'con', x)\n",
    "    print ('\\n')\n",
    "        "
   ]
  },
  {
   "cell_type": "markdown",
   "metadata": {},
   "source": [
    "---"
   ]
  },
  {
   "cell_type": "markdown",
   "metadata": {},
   "source": [
    "## Anuncios:\n",
    "* Las próximas monitorias serán para asesorías individuales sobre los proyectos\n",
    "* Se puede hacer una sesión de Gephi para cuando tengan los datos o preguntas de investigación\n",
    "* ¿Dudas, comentarios, retroalimentación?"
   ]
  },
  {
   "cell_type": "markdown",
   "metadata": {},
   "source": [
    "---"
   ]
  }
 ],
 "metadata": {
  "kernelspec": {
   "display_name": "Python 3",
   "language": "python",
   "name": "python3"
  },
  "language_info": {
   "codemirror_mode": {
    "name": "ipython",
    "version": 3
   },
   "file_extension": ".py",
   "mimetype": "text/x-python",
   "name": "python",
   "nbconvert_exporter": "python",
   "pygments_lexer": "ipython3",
   "version": "3.7.3"
  }
 },
 "nbformat": 4,
 "nbformat_minor": 2
}
