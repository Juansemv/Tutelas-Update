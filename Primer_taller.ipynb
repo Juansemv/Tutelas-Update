{
 "cells": [
  {
   "cell_type": "markdown",
   "metadata": {},
   "source": [
    "# Métodos mixtos 2020-1\n",
    "\n",
    "**Universidad del Rosario**<br>\n",
    "**Escuela de Ciencias Humanas**<br>\n",
    "**Profesor titular:** Oscar Maldonado<br>\n",
    "**Profesor asistente:** Jaime Cuéllar"
   ]
  },
  {
   "cell_type": "markdown",
   "metadata": {},
   "source": [
    "**Estudiante:** [Escriba acá su nombre]<br>\n",
    "**Carrera:** [Escriba acá la carrera que está estudiando]<br>"
   ]
  },
  {
   "cell_type": "markdown",
   "metadata": {},
   "source": [
    "## Criterios del taller"
   ]
  },
  {
   "cell_type": "markdown",
   "metadata": {},
   "source": [
    "**1:** El taller es un trabajo individual<br>\n",
    "**2:** Los talleres están compuestos de preguntas teóricas o/y prácticas, el valor de cada punto se encuentra al principio del taller<br>\n",
    "**3:** Cada taller debe tener su nombre tanto en las casillas de arriba destinadas para eso como en el nombre del archivo. Ejemplo:Primer_taller_Jaime_Cuellar  <br>\n",
    "**Nota:** NO se les olvide que en Python la separación se hace con: __<br>\n",
    "Así mismo recuerde guardar sus avances<br>\n",
    "**4:** Guarde el taller en formato .ipynb, pero también en .pdf.<br>\n",
    "**Nota:** Recuerde mandar los talleres a tiempo, los que no cumplan con este criterio no se califican. Las respuestas se deben poner en el mismo notebook, para lo cual deben generar casillas de texto o programación según sea el caso. \n"
   ]
  },
  {
   "cell_type": "markdown",
   "metadata": {},
   "source": [
    "## Estructura del taller"
   ]
  },
  {
   "cell_type": "markdown",
   "metadata": {},
   "source": [
    "**1:** El total de puntos de este taller son 5, 3 teóricas y el resto prácticas <br>\n",
    "**2:** Todas las preguntas tienen el mismo valor. <br>\n",
    "**3:** Las preguntas teóricas vienen de lo visto en clase y de las lecturas que se dejaron. <br>\n",
    "**4:** Las preguntas prácticas son las demonimadas \"Pensar como un computador\". Este tipo de preguntas son comunes en la enseñanza de la programación y consisten en NO CORRER la celda, sino que con un lápiz y papel se resuelva el resultado que el computador arrojaría.  \n"
   ]
  },
  {
   "cell_type": "markdown",
   "metadata": {},
   "source": [
    "# Taller"
   ]
  },
  {
   "cell_type": "markdown",
   "metadata": {},
   "source": [
    "**1.** Pregunta de la clase: <br>\n",
    "Según el texto de Gustavo Ribeiro ¿Qué es la economía de la carnada? (la respuesta no debe superar cuatro líneas):"
   ]
  },
  {
   "cell_type": "markdown",
   "metadata": {},
   "source": [
    "**2.** Del capítulo 1.10 del libro de Zelle desarrolle el ejercicio 1 de Discussion (cada respuesta no puede superar las tres líneas)"
   ]
  },
  {
   "cell_type": "markdown",
   "metadata": {},
   "source": [
    "**3.** Con sus propias palabras responda la siguiente pregunta de manera argumentativa  y con un párrafo no mayor a seis líneas ¿Cómo las Ciencias Sociales podrían utilizar los Métodos digitales o computaciones?"
   ]
  },
  {
   "cell_type": "markdown",
   "metadata": {},
   "source": [
    "**4.** Pensar como un computador, diga cuál sería el resultado de cada ejercicio. Tener en cuenta que las comas \",\" separan cada ejercicio."
   ]
  },
  {
   "cell_type": "markdown",
   "metadata": {},
   "source": [
    "a = 3 <br>\n",
    "b = 15.0 <br>\n",
    "c = 45 <br>\n",
    "\n",
    "a + c, a + b, b - c, b * 3,  a + 2 + c / b + b * 2 * (c + c)"
   ]
  },
  {
   "cell_type": "markdown",
   "metadata": {},
   "source": [
    "**5.** Del capítulo 1.10 del libro de Zelle desarrolle el ejercicio 1 de Programming excersive"
   ]
  }
 ],
 "metadata": {
  "kernelspec": {
   "display_name": "Python 3",
   "language": "python",
   "name": "python3"
  },
  "language_info": {
   "codemirror_mode": {
    "name": "ipython",
    "version": 3
   },
   "file_extension": ".py",
   "mimetype": "text/x-python",
   "name": "python",
   "nbconvert_exporter": "python",
   "pygments_lexer": "ipython3",
   "version": "3.7.3"
  }
 },
 "nbformat": 4,
 "nbformat_minor": 2
}
