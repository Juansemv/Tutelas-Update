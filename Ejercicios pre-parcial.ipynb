{
 "cells": [
  {
   "cell_type": "markdown",
   "metadata": {},
   "source": [
    "# Ejercicios pre-parcial"
   ]
  },
  {
   "cell_type": "markdown",
   "metadata": {},
   "source": [
    "Cree una lista del 1 - 25 e imprima si son pares o impares"
   ]
  },
  {
   "cell_type": "code",
   "execution_count": 1,
   "metadata": {},
   "outputs": [
    {
     "name": "stdout",
     "output_type": "stream",
     "text": [
      "1 es impar\n",
      "2 es par\n",
      "3 es impar\n",
      "4 es par\n",
      "5 es impar\n",
      "6 es par\n",
      "7 es impar\n",
      "8 es par\n",
      "9 es impar\n",
      "10 es par\n",
      "11 es impar\n",
      "12 es par\n",
      "13 es impar\n",
      "14 es par\n",
      "15 es impar\n",
      "16 es par\n",
      "17 es impar\n",
      "18 es par\n",
      "19 es impar\n",
      "20 es par\n",
      "21 es impar\n",
      "22 es par\n",
      "23 es impar\n",
      "24 es par\n",
      "25 es impar\n"
     ]
    }
   ],
   "source": [
    "for i in range(1, 26):\n",
    "  if i % 2 == 0:\n",
    "    print (i , \"es par\")\n",
    "  else:\n",
    "    print( i, \"es impar\")"
   ]
  },
  {
   "cell_type": "markdown",
   "metadata": {},
   "source": [
    "Usted está haciendo una investigación social y quiere saber si sus perticipantes son de clase 'alta', 'media' o 'baja'. Para ello, haga un programa en el cual usted inserte el estrato de la persona y este le diga:\n",
    "- 'Esta persona es de clase alta', si es estrato 5 o 6\n",
    "- 'Esta persona es de clase media', si es estrato 4 o 3\n",
    "- 'Esta persona es de clase baja', si es estrato 2 o 1\n",
    "- 'Ha cometido un error' En caso de que ingrese otro número."
   ]
  },
  {
   "cell_type": "code",
   "execution_count": 2,
   "metadata": {},
   "outputs": [
    {
     "name": "stdout",
     "output_type": "stream",
     "text": [
      "Diga el estrato social: 4\n",
      "Esta persona es de clase media\n"
     ]
    }
   ],
   "source": [
    "x = int(input('Diga el estrato social: '))\n",
    "if x == 5 or x == 6:\n",
    "  print ('Esta persona es de clase alta')\n",
    "elif x == 4 or x == 3:\n",
    "  print ('Esta persona es de clase media')\n",
    "elif x == 2 or x == 1:\n",
    "  print ('Esta persona es de clase baja')\n",
    "else:\n",
    "  print ('Ha cometido un error')"
   ]
  },
  {
   "cell_type": "code",
   "execution_count": null,
   "metadata": {},
   "outputs": [],
   "source": []
  }
 ],
 "metadata": {
  "kernelspec": {
   "display_name": "Python 3",
   "language": "python",
   "name": "python3"
  },
  "language_info": {
   "codemirror_mode": {
    "name": "ipython",
    "version": 3
   },
   "file_extension": ".py",
   "mimetype": "text/x-python",
   "name": "python",
   "nbconvert_exporter": "python",
   "pygments_lexer": "ipython3",
   "version": "3.7.3"
  }
 },
 "nbformat": 4,
 "nbformat_minor": 2
}
